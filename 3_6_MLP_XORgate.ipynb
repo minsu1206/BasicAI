{
  "nbformat": 4,
  "nbformat_minor": 0,
  "metadata": {
    "colab": {
      "name": "3.6 MLP_XORgate.ipynb",
      "provenance": [],
      "authorship_tag": "ABX9TyMykdKEtEGFvaif6XE5/Ees",
      "include_colab_link": true
    },
    "kernelspec": {
      "name": "python3",
      "display_name": "Python 3"
    }
  },
  "cells": [
    {
      "cell_type": "markdown",
      "metadata": {
        "id": "view-in-github",
        "colab_type": "text"
      },
      "source": [
        "<a href=\"https://colab.research.google.com/github/minsu1206/BasicAI/blob/main/3_6_MLP_XORgate.ipynb\" target=\"_parent\"><img src=\"https://colab.research.google.com/assets/colab-badge.svg\" alt=\"Open In Colab\"/></a>"
      ]
    },
    {
      "cell_type": "code",
      "metadata": {
        "colab": {
          "base_uri": "https://localhost:8080/"
        },
        "id": "txZ3ao9SqHIh",
        "outputId": "d7fb56d7-5502-4874-b567-a49c6f692877"
      },
      "source": [
        "% tensorflow_version 1.x"
      ],
      "execution_count": 1,
      "outputs": [
        {
          "output_type": "stream",
          "text": [
            "TensorFlow 1.x selected.\n"
          ],
          "name": "stdout"
        }
      ]
    },
    {
      "cell_type": "code",
      "metadata": {
        "id": "2XmbuMKyq9xY"
      },
      "source": [
        "import tensorflow as tf\n",
        "import numpy as np"
      ],
      "execution_count": 2,
      "outputs": []
    },
    {
      "cell_type": "code",
      "metadata": {
        "id": "YU_v3Ep5q339"
      },
      "source": [
        "X = np.array([[0,0],[0,1],[1,0],[1,1]])\n",
        "Y = np.array([[0],[1],[1],[0]])"
      ],
      "execution_count": 3,
      "outputs": []
    },
    {
      "cell_type": "code",
      "metadata": {
        "id": "WEvwbhhgq-ep"
      },
      "source": [
        "x = tf.placeholder(tf.float32, shape=[None,2])\n",
        "t = tf.placeholder(tf.float32, shape=[None,1])"
      ],
      "execution_count": 4,
      "outputs": []
    },
    {
      "cell_type": "code",
      "metadata": {
        "id": "Gndma8n7rG0f"
      },
      "source": [
        "W = tf.Variable(tf.truncated_normal([2,2]),validate_shape=False)  # 절단 정규분포\n",
        "b = tf.Variable(tf.zeros([2]),validate_shape=False) \n",
        "h = tf.nn.sigmoid(tf.matmul(x,W)+b)"
      ],
      "execution_count": 5,
      "outputs": []
    },
    {
      "cell_type": "code",
      "metadata": {
        "id": "O2dpkNsQrJOW"
      },
      "source": [
        "v = tf.Variable(tf.truncated_normal([2,1]))\n",
        "c = tf.Variable(tf.zeros([1]))\n",
        "y = tf.nn.sigmoid(tf.matmul(h,v)+c) "
      ],
      "execution_count": 6,
      "outputs": []
    },
    {
      "cell_type": "code",
      "metadata": {
        "id": "Qhy4IiwZrLQN"
      },
      "source": [
        "# 오차함수 (이진분류)\n",
        "cross_entropy = -tf.reduce_mean(t*tf.log(y)+(1-t)*tf.log(1-y)) "
      ],
      "execution_count": 7,
      "outputs": []
    },
    {
      "cell_type": "code",
      "metadata": {
        "colab": {
          "base_uri": "https://localhost:8080/"
        },
        "id": "bHFhPaerrNqf",
        "outputId": "5e34a5cf-083c-4738-ab3a-4d2902de873b"
      },
      "source": [
        "train_step = tf.train.GradientDescentOptimizer(learning_rate=0.1).minimize(cross_entropy)\n",
        "correct_prediction = tf.equal(tf.to_float(tf.greater(y, 0.5)), t) "
      ],
      "execution_count": 8,
      "outputs": [
        {
          "output_type": "stream",
          "text": [
            "WARNING:tensorflow:From <ipython-input-8-0d165d071fb6>:2: to_float (from tensorflow.python.ops.math_ops) is deprecated and will be removed in a future version.\n",
            "Instructions for updating:\n",
            "Use `tf.cast` instead.\n"
          ],
          "name": "stdout"
        }
      ]
    },
    {
      "cell_type": "code",
      "metadata": {
        "id": "NwLuBUQprPN6"
      },
      "source": [
        "init = tf.global_variables_initializer()\n",
        "sess = tf.Session()\n",
        "sess.run(init)"
      ],
      "execution_count": 9,
      "outputs": []
    },
    {
      "cell_type": "code",
      "metadata": {
        "colab": {
          "base_uri": "https://localhost:8080/"
        },
        "id": "hK5dyb1xrR9S",
        "outputId": "655e9e13-e4a7-4130-ad59-60de09439555"
      },
      "source": [
        "for epoch in range(8000):\n",
        "  sess.run(train_step, feed_dict={\n",
        "      x: X,\n",
        "      t: Y\n",
        "  })\n",
        "  if epoch % 100 == 0:\n",
        "    print(\"epoch:\",epoch)\n"
      ],
      "execution_count": 10,
      "outputs": [
        {
          "output_type": "stream",
          "text": [
            "epoch: 0\n",
            "epoch: 100\n",
            "epoch: 200\n",
            "epoch: 300\n",
            "epoch: 400\n",
            "epoch: 500\n",
            "epoch: 600\n",
            "epoch: 700\n",
            "epoch: 800\n",
            "epoch: 900\n",
            "epoch: 1000\n",
            "epoch: 1100\n",
            "epoch: 1200\n",
            "epoch: 1300\n",
            "epoch: 1400\n",
            "epoch: 1500\n",
            "epoch: 1600\n",
            "epoch: 1700\n",
            "epoch: 1800\n",
            "epoch: 1900\n",
            "epoch: 2000\n",
            "epoch: 2100\n",
            "epoch: 2200\n",
            "epoch: 2300\n",
            "epoch: 2400\n",
            "epoch: 2500\n",
            "epoch: 2600\n",
            "epoch: 2700\n",
            "epoch: 2800\n",
            "epoch: 2900\n",
            "epoch: 3000\n",
            "epoch: 3100\n",
            "epoch: 3200\n",
            "epoch: 3300\n",
            "epoch: 3400\n",
            "epoch: 3500\n",
            "epoch: 3600\n",
            "epoch: 3700\n",
            "epoch: 3800\n",
            "epoch: 3900\n",
            "epoch: 4000\n",
            "epoch: 4100\n",
            "epoch: 4200\n",
            "epoch: 4300\n",
            "epoch: 4400\n",
            "epoch: 4500\n",
            "epoch: 4600\n",
            "epoch: 4700\n",
            "epoch: 4800\n",
            "epoch: 4900\n",
            "epoch: 5000\n",
            "epoch: 5100\n",
            "epoch: 5200\n",
            "epoch: 5300\n",
            "epoch: 5400\n",
            "epoch: 5500\n",
            "epoch: 5600\n",
            "epoch: 5700\n",
            "epoch: 5800\n",
            "epoch: 5900\n",
            "epoch: 6000\n",
            "epoch: 6100\n",
            "epoch: 6200\n",
            "epoch: 6300\n",
            "epoch: 6400\n",
            "epoch: 6500\n",
            "epoch: 6600\n",
            "epoch: 6700\n",
            "epoch: 6800\n",
            "epoch: 6900\n",
            "epoch: 7000\n",
            "epoch: 7100\n",
            "epoch: 7200\n",
            "epoch: 7300\n",
            "epoch: 7400\n",
            "epoch: 7500\n",
            "epoch: 7600\n",
            "epoch: 7700\n",
            "epoch: 7800\n",
            "epoch: 7900\n"
          ],
          "name": "stdout"
        }
      ]
    },
    {
      "cell_type": "code",
      "metadata": {
        "id": "VegQ6GlXrpie"
      },
      "source": [
        "classified = correct_prediction.eval(session=sess, feed_dict={\n",
        "    x: X,\n",
        "    t: Y\n",
        "})"
      ],
      "execution_count": 11,
      "outputs": []
    },
    {
      "cell_type": "code",
      "metadata": {
        "id": "P-GcWLOErx-_"
      },
      "source": [
        "prob = y.eval(session =sess, feed_dict={\n",
        "    x: X\n",
        "})"
      ],
      "execution_count": 12,
      "outputs": []
    },
    {
      "cell_type": "code",
      "metadata": {
        "colab": {
          "base_uri": "https://localhost:8080/"
        },
        "id": "jzX987WZr7CU",
        "outputId": "28a03eca-01ea-403b-cb74-3dd4b2ac2108"
      },
      "source": [
        "print('classified')\n",
        "print(classified)"
      ],
      "execution_count": 13,
      "outputs": [
        {
          "output_type": "stream",
          "text": [
            "classified\n",
            "[[ True]\n",
            " [ True]\n",
            " [ True]\n",
            " [ True]]\n"
          ],
          "name": "stdout"
        }
      ]
    },
    {
      "cell_type": "code",
      "metadata": {
        "colab": {
          "base_uri": "https://localhost:8080/"
        },
        "id": "E_Dox9_Pr9aD",
        "outputId": "195d3ebe-4ed7-4a69-b8ba-f8ab312a2f42"
      },
      "source": [
        "print(prob)"
      ],
      "execution_count": 14,
      "outputs": [
        {
          "output_type": "stream",
          "text": [
            "[[0.0243349 ]\n",
            " [0.9814187 ]\n",
            " [0.98129255]\n",
            " [0.02074589]]\n"
          ],
          "name": "stdout"
        }
      ]
    },
    {
      "cell_type": "code",
      "metadata": {
        "id": "wiqtn9ewr_Zo"
      },
      "source": [
        ""
      ],
      "execution_count": 14,
      "outputs": []
    }
  ]
}