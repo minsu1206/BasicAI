{
  "nbformat": 4,
  "nbformat_minor": 0,
  "metadata": {
    "colab": {
      "name": "MNIST_keras.ipynb",
      "provenance": [],
      "authorship_tag": "ABX9TyM1NdkNHB9Q0v5hLXSbr4+N",
      "include_colab_link": true
    },
    "kernelspec": {
      "name": "python3",
      "display_name": "Python 3"
    }
  },
  "cells": [
    {
      "cell_type": "markdown",
      "metadata": {
        "id": "view-in-github",
        "colab_type": "text"
      },
      "source": [
        "<a href=\"https://colab.research.google.com/github/minsu1206/BasicAI/blob/main/MNIST_keras.ipynb\" target=\"_parent\"><img src=\"https://colab.research.google.com/assets/colab-badge.svg\" alt=\"Open In Colab\"/></a>"
      ]
    },
    {
      "cell_type": "code",
      "metadata": {
        "colab": {
          "base_uri": "https://localhost:8080/"
        },
        "id": "cc4qV0pG2P3N",
        "outputId": "b3d5c960-457e-4330-ada4-e93749cfa4fe"
      },
      "source": [
        "% tensorflow_version 1.x\n",
        "import tensorflow as tf"
      ],
      "execution_count": 1,
      "outputs": [
        {
          "output_type": "stream",
          "text": [
            "TensorFlow 1.x selected.\n"
          ],
          "name": "stdout"
        }
      ]
    },
    {
      "cell_type": "code",
      "metadata": {
        "id": "TAmp8IUU2SX8"
      },
      "source": [
        "from sklearn.datasets import fetch_openml\n",
        "from sklearn.model_selection import train_test_split\n",
        "import numpy as np\n",
        "\n",
        "mnist = fetch_openml('mnist_784')\n",
        "N = 40000\n",
        "indices = np.random.permutation(range(70000))[:N]\n",
        "X = mnist.data[indices]\n",
        "y = mnist.target[indices]\n",
        "Y = np.eye(10)[y.astype(int)]\n",
        "X_train, X_test, y_train, y_test = train_test_split(X, Y, train_size=0.8)\n",
        "X_train , X_validation, y_train, y_validation = train_test_split(X_train, y_train, test_size=4000)"
      ],
      "execution_count": 2,
      "outputs": []
    },
    {
      "cell_type": "code",
      "metadata": {
        "id": "4k5dQWDPvVDt",
        "colab": {
          "base_uri": "https://localhost:8080/"
        },
        "outputId": "57bc6736-bd0a-47a9-dcad-76d1e491e39c"
      },
      "source": [
        "from keras.models import Sequential\n",
        "from keras.layers import Dense, Activation\n",
        "from keras.optimizers import SGD\n",
        "from keras.layers import Dropout\n",
        "from sklearn.utils import shuffle\n",
        "from keras import backend as K # 별칭으로 따로 구분되어있지 않은 함수는 keras.backend로 처리 수행\n",
        "import keras\n",
        "\n",
        "def W(shape):\n",
        "    return K.truncated_normal(shape, stddev=0.01)\n",
        "\n",
        "n_in = 784\n",
        "n_hiddens=[200,200,200]\n",
        "n_out = 10\n",
        "p_keep=0.5\n",
        "activation = 'relu'\n",
        "layer = [n_in]+n_hiddens\n",
        "init = tf.keras.initializers.TruncatedNormal(mean=0, stddev=0.05, seed=None)\n",
        "# weight의 초기화가 꼭 필요함. keras의 경우ㅇㅇ\n",
        "model = Sequential()\n",
        "for i, input_dim in enumerate((layer)[:-1]):\n",
        "    model.add(Dense(n_hiddens[i], input_dim=input_dim,\n",
        "                   kernel_initializer=init))\n",
        "    model.add(Activation(activation))\n",
        "    model.add(Dropout(p_keep))\n",
        "model.add(Dense(n_out, kernel_initializer=init))\n",
        "model.add(Activation('softmax'))\n"
      ],
      "execution_count": 3,
      "outputs": [
        {
          "output_type": "stream",
          "text": [
            "WARNING:tensorflow:From /tensorflow-1.15.2/python3.6/tensorflow_core/python/keras/initializers.py:94: calling TruncatedNormal.__init__ (from tensorflow.python.ops.init_ops) with dtype is deprecated and will be removed in a future version.\n",
            "Instructions for updating:\n",
            "Call initializer instance with the dtype argument instead of passing it to the constructor\n",
            "WARNING:tensorflow:From /tensorflow-1.15.2/python3.6/tensorflow_core/python/ops/resource_variable_ops.py:1630: calling BaseResourceVariable.__init__ (from tensorflow.python.ops.resource_variable_ops) with constraint is deprecated and will be removed in a future version.\n",
            "Instructions for updating:\n",
            "If using Keras pass *_constraint arguments to layers.\n"
          ],
          "name": "stdout"
        },
        {
          "output_type": "stream",
          "text": [
            "Using TensorFlow backend.\n"
          ],
          "name": "stderr"
        }
      ]
    },
    {
      "cell_type": "code",
      "metadata": {
        "colab": {
          "base_uri": "https://localhost:8080/"
        },
        "id": "0Xyx4c5F2Z1d",
        "outputId": "a4292647-f8ad-44da-fc60-e0194cc9efde"
      },
      "source": [
        "model.compile(loss='categorical_crossentropy', optimizer=SGD(lr=0.01),metrics=['accuracy'])\n",
        "epochs = 50\n",
        "batch_size = 200\n",
        "hist = model.fit(X_train, y_train, epochs=epochs, batch_size=batch_size,\n",
        "                 validation_data=(X_validation, y_validation))"
      ],
      "execution_count": 4,
      "outputs": [
        {
          "output_type": "stream",
          "text": [
            "WARNING:tensorflow:From /tensorflow-1.15.2/python3.6/keras/backend/tensorflow_backend.py:422: The name tf.global_variables is deprecated. Please use tf.compat.v1.global_variables instead.\n",
            "\n",
            "Train on 28000 samples, validate on 4000 samples\n",
            "Epoch 1/50\n",
            "28000/28000 [==============================] - 2s 66us/step - loss: 2.8147 - accuracy: 0.3303 - val_loss: 1.1314 - val_accuracy: 0.6805\n",
            "Epoch 2/50\n",
            "28000/28000 [==============================] - 2s 55us/step - loss: 1.2855 - accuracy: 0.5874 - val_loss: 0.7507 - val_accuracy: 0.7928\n",
            "Epoch 3/50\n",
            "28000/28000 [==============================] - 2s 55us/step - loss: 1.0373 - accuracy: 0.6751 - val_loss: 0.6166 - val_accuracy: 0.8465\n",
            "Epoch 4/50\n",
            "28000/28000 [==============================] - 2s 54us/step - loss: 0.9292 - accuracy: 0.7085 - val_loss: 0.5511 - val_accuracy: 0.8637\n",
            "Epoch 5/50\n",
            "28000/28000 [==============================] - 2s 54us/step - loss: 0.8488 - accuracy: 0.7344 - val_loss: 0.4860 - val_accuracy: 0.8835\n",
            "Epoch 6/50\n",
            "28000/28000 [==============================] - 2s 54us/step - loss: 0.7993 - accuracy: 0.7552 - val_loss: 0.4765 - val_accuracy: 0.8890\n",
            "Epoch 7/50\n",
            "28000/28000 [==============================] - 2s 55us/step - loss: 0.7582 - accuracy: 0.7668 - val_loss: 0.4447 - val_accuracy: 0.8945\n",
            "Epoch 8/50\n",
            "28000/28000 [==============================] - 2s 55us/step - loss: 0.7148 - accuracy: 0.7851 - val_loss: 0.4327 - val_accuracy: 0.8975\n",
            "Epoch 9/50\n",
            "28000/28000 [==============================] - 2s 55us/step - loss: 0.6810 - accuracy: 0.7979 - val_loss: 0.3938 - val_accuracy: 0.9057\n",
            "Epoch 10/50\n",
            "28000/28000 [==============================] - 2s 54us/step - loss: 0.6559 - accuracy: 0.8091 - val_loss: 0.3885 - val_accuracy: 0.9043\n",
            "Epoch 11/50\n",
            "28000/28000 [==============================] - 2s 55us/step - loss: 0.6243 - accuracy: 0.8179 - val_loss: 0.3620 - val_accuracy: 0.9153\n",
            "Epoch 12/50\n",
            "28000/28000 [==============================] - 2s 54us/step - loss: 0.5938 - accuracy: 0.8269 - val_loss: 0.3523 - val_accuracy: 0.9147\n",
            "Epoch 13/50\n",
            "28000/28000 [==============================] - 2s 54us/step - loss: 0.5837 - accuracy: 0.8358 - val_loss: 0.3514 - val_accuracy: 0.9145\n",
            "Epoch 14/50\n",
            "28000/28000 [==============================] - 2s 55us/step - loss: 0.5587 - accuracy: 0.8421 - val_loss: 0.3263 - val_accuracy: 0.9168\n",
            "Epoch 15/50\n",
            "28000/28000 [==============================] - 2s 56us/step - loss: 0.5414 - accuracy: 0.8455 - val_loss: 0.3257 - val_accuracy: 0.9227\n",
            "Epoch 16/50\n",
            "28000/28000 [==============================] - 2s 55us/step - loss: 0.5282 - accuracy: 0.8537 - val_loss: 0.3384 - val_accuracy: 0.9245\n",
            "Epoch 17/50\n",
            "28000/28000 [==============================] - 2s 55us/step - loss: 0.5176 - accuracy: 0.8562 - val_loss: 0.3204 - val_accuracy: 0.9200\n",
            "Epoch 18/50\n",
            "28000/28000 [==============================] - 2s 55us/step - loss: 0.5042 - accuracy: 0.8570 - val_loss: 0.3170 - val_accuracy: 0.9240\n",
            "Epoch 19/50\n",
            "28000/28000 [==============================] - 2s 54us/step - loss: 0.4962 - accuracy: 0.8646 - val_loss: 0.3153 - val_accuracy: 0.9270\n",
            "Epoch 20/50\n",
            "28000/28000 [==============================] - 2s 56us/step - loss: 0.4845 - accuracy: 0.8646 - val_loss: 0.2978 - val_accuracy: 0.9290\n",
            "Epoch 21/50\n",
            "28000/28000 [==============================] - 2s 55us/step - loss: 0.4834 - accuracy: 0.8654 - val_loss: 0.2964 - val_accuracy: 0.9265\n",
            "Epoch 22/50\n",
            "28000/28000 [==============================] - 2s 54us/step - loss: 0.4620 - accuracy: 0.8729 - val_loss: 0.2969 - val_accuracy: 0.9270\n",
            "Epoch 23/50\n",
            "28000/28000 [==============================] - 2s 54us/step - loss: 0.4605 - accuracy: 0.8723 - val_loss: 0.2885 - val_accuracy: 0.9273\n",
            "Epoch 24/50\n",
            "28000/28000 [==============================] - 2s 55us/step - loss: 0.4464 - accuracy: 0.8781 - val_loss: 0.2776 - val_accuracy: 0.9298\n",
            "Epoch 25/50\n",
            "28000/28000 [==============================] - 2s 55us/step - loss: 0.4434 - accuracy: 0.8787 - val_loss: 0.2825 - val_accuracy: 0.9308\n",
            "Epoch 26/50\n",
            "28000/28000 [==============================] - 2s 54us/step - loss: 0.4365 - accuracy: 0.8802 - val_loss: 0.2679 - val_accuracy: 0.9327\n",
            "Epoch 27/50\n",
            "28000/28000 [==============================] - 2s 54us/step - loss: 0.4351 - accuracy: 0.8809 - val_loss: 0.2747 - val_accuracy: 0.9358\n",
            "Epoch 28/50\n",
            "28000/28000 [==============================] - 2s 57us/step - loss: 0.4139 - accuracy: 0.8856 - val_loss: 0.2622 - val_accuracy: 0.9327\n",
            "Epoch 29/50\n",
            "28000/28000 [==============================] - 2s 54us/step - loss: 0.4168 - accuracy: 0.8864 - val_loss: 0.2709 - val_accuracy: 0.9335\n",
            "Epoch 30/50\n",
            "28000/28000 [==============================] - 2s 56us/step - loss: 0.4019 - accuracy: 0.8911 - val_loss: 0.2558 - val_accuracy: 0.9345\n",
            "Epoch 31/50\n",
            "28000/28000 [==============================] - 2s 56us/step - loss: 0.4062 - accuracy: 0.8917 - val_loss: 0.2568 - val_accuracy: 0.9337\n",
            "Epoch 32/50\n",
            "28000/28000 [==============================] - 2s 56us/step - loss: 0.4002 - accuracy: 0.8910 - val_loss: 0.2589 - val_accuracy: 0.9333\n",
            "Epoch 33/50\n",
            "28000/28000 [==============================] - 2s 56us/step - loss: 0.3869 - accuracy: 0.8970 - val_loss: 0.2526 - val_accuracy: 0.9337\n",
            "Epoch 34/50\n",
            "28000/28000 [==============================] - 2s 56us/step - loss: 0.3857 - accuracy: 0.8954 - val_loss: 0.2556 - val_accuracy: 0.9352\n",
            "Epoch 35/50\n",
            "28000/28000 [==============================] - 2s 57us/step - loss: 0.3755 - accuracy: 0.8971 - val_loss: 0.2546 - val_accuracy: 0.9367\n",
            "Epoch 36/50\n",
            "28000/28000 [==============================] - 2s 57us/step - loss: 0.3715 - accuracy: 0.8997 - val_loss: 0.2430 - val_accuracy: 0.9348\n",
            "Epoch 37/50\n",
            "28000/28000 [==============================] - 2s 57us/step - loss: 0.3752 - accuracy: 0.9000 - val_loss: 0.2466 - val_accuracy: 0.9358\n",
            "Epoch 38/50\n",
            "28000/28000 [==============================] - 2s 57us/step - loss: 0.3646 - accuracy: 0.9008 - val_loss: 0.2427 - val_accuracy: 0.9365\n",
            "Epoch 39/50\n",
            "28000/28000 [==============================] - 2s 56us/step - loss: 0.3563 - accuracy: 0.9040 - val_loss: 0.2440 - val_accuracy: 0.9390\n",
            "Epoch 40/50\n",
            "28000/28000 [==============================] - 2s 55us/step - loss: 0.3620 - accuracy: 0.9042 - val_loss: 0.2451 - val_accuracy: 0.9390\n",
            "Epoch 41/50\n",
            "28000/28000 [==============================] - 2s 55us/step - loss: 0.3490 - accuracy: 0.9082 - val_loss: 0.2442 - val_accuracy: 0.9388\n",
            "Epoch 42/50\n",
            "28000/28000 [==============================] - 2s 56us/step - loss: 0.3567 - accuracy: 0.9035 - val_loss: 0.2377 - val_accuracy: 0.9385\n",
            "Epoch 43/50\n",
            "28000/28000 [==============================] - 2s 56us/step - loss: 0.3471 - accuracy: 0.9077 - val_loss: 0.2362 - val_accuracy: 0.9408\n",
            "Epoch 44/50\n",
            "28000/28000 [==============================] - 2s 57us/step - loss: 0.3465 - accuracy: 0.9068 - val_loss: 0.2352 - val_accuracy: 0.9408\n",
            "Epoch 45/50\n",
            "28000/28000 [==============================] - 2s 57us/step - loss: 0.3392 - accuracy: 0.9096 - val_loss: 0.2420 - val_accuracy: 0.9408\n",
            "Epoch 46/50\n",
            "28000/28000 [==============================] - 2s 56us/step - loss: 0.3369 - accuracy: 0.9089 - val_loss: 0.2357 - val_accuracy: 0.9405\n",
            "Epoch 47/50\n",
            "28000/28000 [==============================] - 2s 56us/step - loss: 0.3322 - accuracy: 0.9081 - val_loss: 0.2276 - val_accuracy: 0.9415\n",
            "Epoch 48/50\n",
            "28000/28000 [==============================] - 2s 56us/step - loss: 0.3349 - accuracy: 0.9099 - val_loss: 0.2236 - val_accuracy: 0.9410\n",
            "Epoch 49/50\n",
            "28000/28000 [==============================] - 2s 57us/step - loss: 0.3273 - accuracy: 0.9116 - val_loss: 0.2245 - val_accuracy: 0.9430\n",
            "Epoch 50/50\n",
            "28000/28000 [==============================] - 2s 58us/step - loss: 0.3259 - accuracy: 0.9124 - val_loss: 0.2198 - val_accuracy: 0.9417\n"
          ],
          "name": "stdout"
        }
      ]
    },
    {
      "cell_type": "code",
      "metadata": {
        "colab": {
          "base_uri": "https://localhost:8080/",
          "height": 277
        },
        "id": "HlUeOa0h2gSZ",
        "outputId": "1c0cf067-42ed-42e0-e6e6-0a964046dd13"
      },
      "source": [
        "val_acc = hist.history['accuracy']\n",
        "# https://stackoverflow.com/questions/54602399/why-am-i-having-keyerror-val-acc\n",
        "\n",
        "import matplotlib.pyplot as plt\n",
        "plt.rc('font', family='serif')\n",
        "fig = plt.figure()\n",
        "plt.plot(range(epochs), val_acc, label='acc', color='black')\n",
        "plt.xlabel('epochs')\n",
        "plt.show()"
      ],
      "execution_count": 5,
      "outputs": [
        {
          "output_type": "display_data",
          "data": {
            "image/png": "[encoded data removed]",
            "text/plain": [
              "<Figure size 432x288 with 1 Axes>"
            ]
          },
          "metadata": {
            "tags": [],
            "needs_background": "light"
          }
        }
      ]
    },
    {
      "cell_type": "code",
      "metadata": {
        "colab": {
          "base_uri": "https://localhost:8080/"
        },
        "id": "YrCO0rQO2iox",
        "outputId": "241b6e9a-0f83-44de-9fa1-d34d6b1d7a0c"
      },
      "source": [
        "loss_and_metrics = model.evaluate(X_test, y_test)\n",
        "print(loss_and_metrics)"
      ],
      "execution_count": 6,
      "outputs": [
        {
          "output_type": "stream",
          "text": [
            "8000/8000 [==============================] - 0s 38us/step\n",
            "[0.22544353833049535, 0.9415000081062317]\n"
          ],
          "name": "stdout"
        }
      ]
    },
    {
      "cell_type": "code",
      "metadata": {
        "id": "Hw4wKXOY2kjh"
      },
      "source": [
        ""
      ],
      "execution_count": null,
      "outputs": []
    }
  ]
}
