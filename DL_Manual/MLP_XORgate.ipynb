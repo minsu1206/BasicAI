%tensorflow_version 1.x

import tensorflow as tf
import numpy as np

X = np.array([[0,0],[0,1],[1,0],[1,1]])
Y = np.array([[0],[1],[1],[0]])

x = tf.placeholder(tf.float32, shape=[None,2])
t = tf.placeholder(tf.float32, shape=[None,1])

W = tf.Variable(tf.truncated_normal([2,2]),validate_shape=False)  # 절단 정규분포
b = tf.Variable(tf.zeros([2]),validate_shape=False) 
h = tf.nn.sigmoid(tf.matmul(x,W)+b)

v = tf.Variable(tf.truncated_normal([2,1]))
c = tf.Variable(tf.zeros([1]))
y = tf.nn.sigmoid(tf.matmul(h,v)+c)

# loss function (binary classification)
cross_entropy = -tf.reduce_mean(t*tf.log(y)+(1-t)*tf.log(1-y))
train_step = tf.train.GradientDescentOptimizer(learning_rate=0.1).minimize(cross_entropy)
correct_prediction = tf.equal(tf.to_float(tf.greater(y, 0.5)), t)


init = tf.global_variables_initializer()
sess = tf.Session()
sess.run(init)
epochs = 4000
for epoch in epochs:
    sess.run(train_step, feed_dict={x:X, t:Y})
    if epoch % 100 == 0:
        print('epoch:',epoch)

classified = correct_prediction.eval(session=sess, feed_dict={x:X, y:Y})
prob = y.eval(session=sess, feed_dict={x:X})

print("classified")
print(classified)
print()
print("output probability")
print(prob)

        
