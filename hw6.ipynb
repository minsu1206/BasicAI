{
  "nbformat": 4,
  "nbformat_minor": 0,
  "metadata": {
    "colab": {
      "name": "hw6.ipynb",
      "provenance": [],
      "authorship_tag": "ABX9TyOsjJhd/oJr2GnIUuh7N5j9",
      "include_colab_link": true
    },
    "kernelspec": {
      "name": "python3",
      "display_name": "Python 3"
    }
  },
  "cells": [
    {
      "cell_type": "markdown",
      "metadata": {
        "id": "view-in-github",
        "colab_type": "text"
      },
      "source": [
        "<a href=\"https://colab.research.google.com/github/minsu1206/BasicAI/blob/main/hw6.ipynb\" target=\"_parent\"><img src=\"https://colab.research.google.com/assets/colab-badge.svg\" alt=\"Open In Colab\"/></a>"
      ]
    },
    {
      "cell_type": "markdown",
      "metadata": {
        "id": "gAUQ8sdueq-c"
      },
      "source": [
        "# Default\r\n",
        "\r\n",
        "- Apply Normalization at Dataset"
      ]
    },
    {
      "cell_type": "code",
      "metadata": {
        "id": "p-EjmHtTeiIm"
      },
      "source": [
        "import torch\r\n",
        "# import torchvision.datasets as dsets\r\n",
        "from torchvision.datasets.mnist import MNIST\r\n",
        "import torchvision.transforms as transforms\r\n",
        "import torchvision\r\n",
        "from torch.utils.data import DataLoader\r\n",
        "from torch import nn, optim\r\n",
        "from torch.autograd import Variable\r\n",
        "import torch.nn.functional as F\r\n",
        "from torchsummary import summary\r\n",
        "import pandas as pd\r\n",
        "import numpy as np\r\n",
        "import random\r\n",
        "import matplotlib.pyplot as plt\r\n",
        "import tqdm\r\n",
        "from sklearn.utils import shuffle\r\n",
        "import time"
      ],
      "execution_count": 1,
      "outputs": []
    },
    {
      "cell_type": "code",
      "metadata": {
        "id": "K8TGmVhFeo_8"
      },
      "source": [
        "data_train = MNIST('./data/mnist',\r\n",
        "                   train=True,\r\n",
        "                   download=True,\r\n",
        "                   transform = transforms.Compose([\r\n",
        "                      transforms.Resize((32,32)),\r\n",
        "                      transforms.ToTensor(),\r\n",
        "                      transforms.Normalize(mean=(0.1307,), std=(0.3801,))]))\r\n",
        "data_test = MNIST('./data/mnist',\r\n",
        "                 train=False,\r\n",
        "                 download=True,\r\n",
        "                 transform=transforms.Compose([\r\n",
        "                     transforms.Resize((32,32)),\r\n",
        "                     transforms.ToTensor(),\r\n",
        "                     transforms.Normalize(mean=(0.1307,), std=(0.3801,))\r\n",
        "                 ]))"
      ],
      "execution_count": 2,
      "outputs": []
    },
    {
      "cell_type": "markdown",
      "metadata": {
        "id": "CHLfI7exhUzD"
      },
      "source": [
        "MNIST 셋의 평균과 표준편차를 찾아본 결과, 평균은 0.1307, 표준편차는 0.3801로 나타났다. ToTensor()로 바꾸면 0 ~ 255 범위의 픽셀값들이 0~1로 scaling이 되므로 정규화가 가능하다."
      ]
    },
    {
      "cell_type": "code",
      "metadata": {
        "id": "k0yCjrojetWw"
      },
      "source": [
        "main, throw_up = torch.utils.data.random_split(data_train, [int(len(data_train)*0.05), len(data_train)- int(len(data_train)*0.05)])\r\n",
        "data_train_loader = DataLoader(main, batch_size=256, shuffle=True, num_workers=8)\r\n",
        "data_test_loader = DataLoader(data_test, batch_size=1024, num_workers=8)"
      ],
      "execution_count": 3,
      "outputs": []
    },
    {
      "cell_type": "code",
      "metadata": {
        "colab": {
          "base_uri": "https://localhost:8080/"
        },
        "id": "yh0MSzpFexeS",
        "outputId": "16779ec5-2931-452c-e304-bf6063375295"
      },
      "source": [
        "training_epochs = 50\r\n",
        "USE_CUDA = torch.cuda.is_available()\r\n",
        "device = torch.device(\"cuda\" if USE_CUDA else \"cpu\")\r\n",
        "print(device)"
      ],
      "execution_count": 4,
      "outputs": [
        {
          "output_type": "stream",
          "text": [
            "cpu\n"
          ],
          "name": "stdout"
        }
      ]
    },
    {
      "cell_type": "markdown",
      "metadata": {
        "id": "oyP2oNGjii7q"
      },
      "source": [
        "Utils"
      ]
    },
    {
      "cell_type": "code",
      "metadata": {
        "id": "k4VpkvuDhzp5"
      },
      "source": [
        "def train(model, filtering=False, training_epochs=50):\r\n",
        "    criterion = nn.CrossEntropyLoss().to(device)\r\n",
        "    if filter == True:\r\n",
        "        optimizer = optim.Adam(filter(lambda p: p.requires_grad, model.parameters()), lr=1e-3)\r\n",
        "    else:\r\n",
        "        optimizer = optim.Adam(model.parameters(), lr=0.001)\r\n",
        "    history = []\r\n",
        "    start = time.perf_counter()\r\n",
        "    for epoch in range(training_epochs):\r\n",
        "        avg_cost = 0\r\n",
        "        total_batch = len(data_train_loader)\r\n",
        "        for i,(X, Y) in enumerate(data_train_loader):        \r\n",
        "            optimizer.zero_grad()\r\n",
        "            y_hat = model(X.to(device))\r\n",
        "            cost = criterion(y_hat, Y.to(device))\r\n",
        "            cost.backward()\r\n",
        "            optimizer.step()\r\n",
        "            avg_cost += cost / total_batch\r\n",
        "        history.append(float(avg_cost))\r\n",
        "        if epoch % 5 == 0:\r\n",
        "            print('Epoch:', '%04d' % (epoch), 'cost=', '{:.9f}'.format(avg_cost))\r\n",
        "    end = time.perf_counter()\r\n",
        "    print('Training Done')\r\n",
        "    print(end - start)\r\n",
        "    return model, history"
      ],
      "execution_count": 5,
      "outputs": []
    },
    {
      "cell_type": "code",
      "metadata": {
        "id": "KhafkOoQifWw"
      },
      "source": [
        "def check_freezing(model):\r\n",
        "    for i, param in enumerate(model.parameters()):\r\n",
        "        if param.requires_grad == True:\r\n",
        "            print(i, 'Not Freeze')\r\n",
        "        else:\r\n",
        "            print(i, 'Freezed')"
      ],
      "execution_count": 6,
      "outputs": []
    },
    {
      "cell_type": "code",
      "metadata": {
        "id": "ct3gH5dvipzI"
      },
      "source": [
        "def test(model):\r\n",
        "    criterion = nn.CrossEntropyLoss().to(device)\r\n",
        "    model.eval()\r\n",
        "    total_correct = 0\r\n",
        "    avg_loss = 0\r\n",
        "    for i, (X, Y) in enumerate(data_test_loader):\r\n",
        "        output = model(X.to(device))\r\n",
        "        avg_loss += criterion(output, Y.to(device)).sum()\r\n",
        "        pred = output.detach().max(1)[1]\r\n",
        "        total_correct += pred.eq(Y.to(device).view_as(pred)).sum()\r\n",
        "    avg_loss /= len(data_test)\r\n",
        "    print('Test Average Cost: %f, Accuracy: %f' % (avg_loss.detach().cpu().item(), float(total_correct)/len(data_test)))"
      ],
      "execution_count": 7,
      "outputs": []
    },
    {
      "cell_type": "markdown",
      "metadata": {
        "id": "GkNSEEczhr2h"
      },
      "source": [
        "# 1. Original LeNet5"
      ]
    },
    {
      "cell_type": "code",
      "metadata": {
        "id": "DwkH3fade1sv"
      },
      "source": [
        "class LeNet(nn.Module):\r\n",
        "    def __init__(self):\r\n",
        "        super(LeNet, self).__init__()\r\n",
        "        self.conv1 = nn.Sequential(nn.Conv2d(1,6,(5,5), padding=0).to(device),\r\n",
        "                                   nn.ReLU())\r\n",
        "        self.conv2 = nn.Sequential(nn.Conv2d(6,16,(5,5), padding=0).to(device),\r\n",
        "                                   nn.ReLU())\r\n",
        "        self.fc1 = nn.Sequential(nn.Linear(16*5*5, 120).to(device), nn.ReLU())\r\n",
        "        self.fc2 = nn.Sequential(nn.Linear(120,84).to(device), nn.ReLU())\r\n",
        "        self.fc3 = nn.Linear(84, 10).to(device)\r\n",
        "        \r\n",
        "    def forward(self, x):\r\n",
        "        x = F.max_pool2d(self.conv1(x), (2,2)).to(device)\r\n",
        "        x = F.max_pool2d(self.conv2(x), (2,2)).to(device)\r\n",
        "        x = x.view(-1, self.num_flat_features(x)).to(device)\r\n",
        "        x = self.fc1(x)\r\n",
        "        x = self.fc2(x)\r\n",
        "        x = self.fc3(x)\r\n",
        "        return x\r\n",
        "    \r\n",
        "    def num_flat_features(self, x):\r\n",
        "        size = x.size()[1:]\r\n",
        "        num_features = 1\r\n",
        "        for s in size:\r\n",
        "            num_features *= s\r\n",
        "        return num_features"
      ],
      "execution_count": 8,
      "outputs": []
    },
    {
      "cell_type": "code",
      "metadata": {
        "id": "Q72-o5SZi2gz"
      },
      "source": [
        "original = LeNet()"
      ],
      "execution_count": 9,
      "outputs": []
    },
    {
      "cell_type": "code",
      "metadata": {
        "colab": {
          "base_uri": "https://localhost:8080/"
        },
        "id": "sJNOwEH-i77C",
        "outputId": "07877264-0089-4e9f-fd12-82e6c26f87ad"
      },
      "source": [
        "summary(original, input_size=(1,32,32))"
      ],
      "execution_count": 10,
      "outputs": [
        {
          "output_type": "stream",
          "text": [
            "----------------------------------------------------------------\n",
            "        Layer (type)               Output Shape         Param #\n",
            "================================================================\n",
            "            Conv2d-1            [-1, 6, 28, 28]             156\n",
            "              ReLU-2            [-1, 6, 28, 28]               0\n",
            "            Conv2d-3           [-1, 16, 10, 10]           2,416\n",
            "              ReLU-4           [-1, 16, 10, 10]               0\n",
            "            Linear-5                  [-1, 120]          48,120\n",
            "              ReLU-6                  [-1, 120]               0\n",
            "            Linear-7                   [-1, 84]          10,164\n",
            "              ReLU-8                   [-1, 84]               0\n",
            "            Linear-9                   [-1, 10]             850\n",
            "================================================================\n",
            "Total params: 61,706\n",
            "Trainable params: 61,706\n",
            "Non-trainable params: 0\n",
            "----------------------------------------------------------------\n",
            "Input size (MB): 0.00\n",
            "Forward/backward pass size (MB): 0.10\n",
            "Params size (MB): 0.24\n",
            "Estimated Total Size (MB): 0.34\n",
            "----------------------------------------------------------------\n"
          ],
          "name": "stdout"
        }
      ]
    },
    {
      "cell_type": "code",
      "metadata": {
        "colab": {
          "base_uri": "https://localhost:8080/"
        },
        "id": "yNWxVqlKjOQz",
        "outputId": "274361a8-8f20-4219-f186-cad0fe4bdfd2"
      },
      "source": [
        "original, history_raw = train(original)"
      ],
      "execution_count": 11,
      "outputs": [
        {
          "output_type": "stream",
          "text": [
            "Epoch: 0000 cost= 2.178341389\n",
            "Epoch: 0005 cost= 0.352550864\n",
            "Epoch: 0010 cost= 0.207792833\n",
            "Epoch: 0015 cost= 0.133681729\n",
            "Epoch: 0020 cost= 0.082961805\n",
            "Epoch: 0025 cost= 0.057649024\n",
            "Epoch: 0030 cost= 0.047499448\n",
            "Epoch: 0035 cost= 0.026082631\n",
            "Epoch: 0040 cost= 0.014490498\n",
            "Epoch: 0045 cost= 0.010873962\n",
            "Training Done\n",
            "81.53149316200052\n"
          ],
          "name": "stdout"
        }
      ]
    },
    {
      "cell_type": "code",
      "metadata": {
        "colab": {
          "base_uri": "https://localhost:8080/"
        },
        "id": "HCcGSzzBjU-V",
        "outputId": "eaf3c2b8-bc39-4df2-dc52-bfb77e3c5256"
      },
      "source": [
        "test(original)"
      ],
      "execution_count": 12,
      "outputs": [
        {
          "output_type": "stream",
          "text": [
            "Test Average Cost: 0.000127, Accuracy: 0.967400\n"
          ],
          "name": "stdout"
        }
      ]
    },
    {
      "cell_type": "code",
      "metadata": {
        "colab": {
          "base_uri": "https://localhost:8080/",
          "height": 283
        },
        "id": "lxpMlb_UjXgn",
        "outputId": "08c7b503-cfe2-4a0e-b98b-a7433ac12f69"
      },
      "source": [
        "plt.plot(history_raw)"
      ],
      "execution_count": 13,
      "outputs": [
        {
          "output_type": "execute_result",
          "data": {
            "text/plain": [
              "[<matplotlib.lines.Line2D at 0x7f7db8db1ac8>]"
            ]
          },
          "metadata": {
            "tags": []
          },
          "execution_count": 13
        },
        {
          "output_type": "display_data",
          "data": {
            "image/png": "[encoded data removed]",
            "text/plain": [
              "<Figure size 432x288 with 1 Axes>"
            ]
          },
          "metadata": {
            "tags": [],
            "needs_background": "light"
          }
        }
      ]
    },
    {
      "cell_type": "markdown",
      "metadata": {
        "id": "295Pidvhe2cR"
      },
      "source": [
        "# 2. BatchNormalization"
      ]
    },
    {
      "cell_type": "code",
      "metadata": {
        "id": "hQ5m56a7jBgh"
      },
      "source": [
        "freeze = 0\r\n",
        "for param in original.parameters():\r\n",
        "    if freeze < 2:\r\n",
        "        param.requires_grad = True ## if True, unfreeze\r\n",
        "    else:\r\n",
        "        param.requires_grad = False\r\n",
        "    freeze += 1"
      ],
      "execution_count": 14,
      "outputs": []
    },
    {
      "cell_type": "code",
      "metadata": {
        "colab": {
          "base_uri": "https://localhost:8080/"
        },
        "id": "F0IVXFCijmgV",
        "outputId": "e52f2865-fb0b-40e4-d810-26146102ddd6"
      },
      "source": [
        "check_freezing(original)"
      ],
      "execution_count": 15,
      "outputs": [
        {
          "output_type": "stream",
          "text": [
            "0 Not Freeze\n",
            "1 Not Freeze\n",
            "2 Freezed\n",
            "3 Freezed\n",
            "4 Freezed\n",
            "5 Freezed\n",
            "6 Freezed\n",
            "7 Freezed\n",
            "8 Freezed\n",
            "9 Freezed\n"
          ],
          "name": "stdout"
        }
      ]
    },
    {
      "cell_type": "code",
      "metadata": {
        "id": "f9C65kY5jsut"
      },
      "source": [
        "original.conv1 = nn.Sequential(\r\n",
        "    nn.Conv2d(1,6,(5,5), padding=0).to(device),\r\n",
        "    nn.ReLU(),\r\n",
        "    nn.BatchNorm2d(6)\r\n",
        ")"
      ],
      "execution_count": 16,
      "outputs": []
    },
    {
      "cell_type": "code",
      "metadata": {
        "id": "591dtcHtmJu4"
      },
      "source": [
        "original.conv2 = nn.Sequential(\r\n",
        "    nn.Conv2d(6,16,(5,5), padding=0).to(device),\r\n",
        "    nn.ReLU(),\r\n",
        "    nn.BatchNorm2d(16)\r\n",
        ")"
      ],
      "execution_count": 17,
      "outputs": []
    },
    {
      "cell_type": "code",
      "metadata": {
        "colab": {
          "base_uri": "https://localhost:8080/"
        },
        "id": "HrlfP-fxmQeu",
        "outputId": "7ea38260-6125-44f3-84fc-21340e3e46ab"
      },
      "source": [
        "summary(original, input_size=(1,32,32))"
      ],
      "execution_count": 18,
      "outputs": [
        {
          "output_type": "stream",
          "text": [
            "----------------------------------------------------------------\n",
            "        Layer (type)               Output Shape         Param #\n",
            "================================================================\n",
            "            Conv2d-1            [-1, 6, 28, 28]             156\n",
            "              ReLU-2            [-1, 6, 28, 28]               0\n",
            "       BatchNorm2d-3            [-1, 6, 28, 28]              12\n",
            "            Conv2d-4           [-1, 16, 10, 10]           2,416\n",
            "              ReLU-5           [-1, 16, 10, 10]               0\n",
            "       BatchNorm2d-6           [-1, 16, 10, 10]              32\n",
            "            Linear-7                  [-1, 120]          48,120\n",
            "              ReLU-8                  [-1, 120]               0\n",
            "            Linear-9                   [-1, 84]          10,164\n",
            "             ReLU-10                   [-1, 84]               0\n",
            "           Linear-11                   [-1, 10]             850\n",
            "================================================================\n",
            "Total params: 61,750\n",
            "Trainable params: 2,616\n",
            "Non-trainable params: 59,134\n",
            "----------------------------------------------------------------\n",
            "Input size (MB): 0.00\n",
            "Forward/backward pass size (MB): 0.15\n",
            "Params size (MB): 0.24\n",
            "Estimated Total Size (MB): 0.39\n",
            "----------------------------------------------------------------\n"
          ],
          "name": "stdout"
        }
      ]
    },
    {
      "cell_type": "code",
      "metadata": {
        "colab": {
          "base_uri": "https://localhost:8080/"
        },
        "id": "Arytq5ZjmTfJ",
        "outputId": "61a45740-ba8a-4427-ff75-d7e50c940811"
      },
      "source": [
        "check_freezing(original)"
      ],
      "execution_count": 19,
      "outputs": [
        {
          "output_type": "stream",
          "text": [
            "0 Not Freeze\n",
            "1 Not Freeze\n",
            "2 Not Freeze\n",
            "3 Not Freeze\n",
            "4 Not Freeze\n",
            "5 Not Freeze\n",
            "6 Not Freeze\n",
            "7 Not Freeze\n",
            "8 Freezed\n",
            "9 Freezed\n",
            "10 Freezed\n",
            "11 Freezed\n",
            "12 Freezed\n",
            "13 Freezed\n"
          ],
          "name": "stdout"
        }
      ]
    },
    {
      "cell_type": "code",
      "metadata": {
        "colab": {
          "base_uri": "https://localhost:8080/"
        },
        "id": "5iNZCMSLncBR",
        "outputId": "0587c7bb-dcd0-47ed-a8a0-d6f52e717d16"
      },
      "source": [
        "second, history_2 = train(original, filtering=True)"
      ],
      "execution_count": 20,
      "outputs": [
        {
          "output_type": "stream",
          "text": [
            "Epoch: 0000 cost= 1.716675401\n",
            "Epoch: 0005 cost= 0.206496418\n",
            "Epoch: 0010 cost= 0.138527289\n",
            "Epoch: 0015 cost= 0.107092611\n",
            "Epoch: 0020 cost= 0.085759751\n",
            "Epoch: 0025 cost= 0.071466669\n",
            "Epoch: 0030 cost= 0.060241863\n",
            "Epoch: 0035 cost= 0.050531100\n",
            "Epoch: 0040 cost= 0.043676861\n",
            "Epoch: 0045 cost= 0.037857112\n",
            "Training Done\n",
            "97.42893017799997\n"
          ],
          "name": "stdout"
        }
      ]
    },
    {
      "cell_type": "code",
      "metadata": {
        "colab": {
          "base_uri": "https://localhost:8080/"
        },
        "id": "WgfXAFK5oziW",
        "outputId": "20c5499f-8268-4a66-bc28-d6872b673689"
      },
      "source": [
        "test(second)"
      ],
      "execution_count": 21,
      "outputs": [
        {
          "output_type": "stream",
          "text": [
            "Test Average Cost: 0.000105, Accuracy: 0.969800\n"
          ],
          "name": "stdout"
        }
      ]
    },
    {
      "cell_type": "code",
      "metadata": {
        "colab": {
          "base_uri": "https://localhost:8080/",
          "height": 283
        },
        "id": "2k5E2sM_KNxZ",
        "outputId": "a20b114d-9056-4537-98d1-f4ae7e6618a6"
      },
      "source": [
        "plt.plot(history_2)"
      ],
      "execution_count": 61,
      "outputs": [
        {
          "output_type": "execute_result",
          "data": {
            "text/plain": [
              "[<matplotlib.lines.Line2D at 0x7f7db9764438>]"
            ]
          },
          "metadata": {
            "tags": []
          },
          "execution_count": 61
        },
        {
          "output_type": "display_data",
          "data": {
            "image/png": "[encoded data removed]",
            "text/plain": [
              "<Figure size 432x288 with 1 Axes>"
            ]
          },
          "metadata": {
            "tags": [],
            "needs_background": "light"
          }
        }
      ]
    },
    {
      "cell_type": "code",
      "metadata": {
        "id": "tepgRLWOpaTS"
      },
      "source": [
        ""
      ],
      "execution_count": null,
      "outputs": []
    },
    {
      "cell_type": "markdown",
      "metadata": {
        "id": "IrgzxLlcsqN9"
      },
      "source": [
        "# 3. Weight Initialization"
      ]
    },
    {
      "cell_type": "code",
      "metadata": {
        "colab": {
          "base_uri": "https://localhost:8080/"
        },
        "id": "bQSVXXdJss6c",
        "outputId": "4e4334e4-5ac8-492c-b9b6-a16bc59efb99"
      },
      "source": [
        "num = 0\r\n",
        "for m in second.modules():\r\n",
        "    if isinstance(m, nn.Conv2d):\r\n",
        "        print(num, 'True')\r\n",
        "        torch.nn.init.xavier_uniform(m.weight)"
      ],
      "execution_count": 23,
      "outputs": [
        {
          "output_type": "stream",
          "text": [
            "0 True\n",
            "0 True\n"
          ],
          "name": "stdout"
        },
        {
          "output_type": "stream",
          "text": [
            "/usr/local/lib/python3.6/dist-packages/ipykernel_launcher.py:5: UserWarning: nn.init.xavier_uniform is now deprecated in favor of nn.init.xavier_uniform_.\n",
            "  \"\"\"\n"
          ],
          "name": "stderr"
        }
      ]
    },
    {
      "cell_type": "code",
      "metadata": {
        "colab": {
          "base_uri": "https://localhost:8080/"
        },
        "id": "k5png_egsxE6",
        "outputId": "99414bf7-097b-430f-d24f-5d4bfd1b4cf4"
      },
      "source": [
        "third, history_3 = train(second, filtering=True)"
      ],
      "execution_count": 24,
      "outputs": [
        {
          "output_type": "stream",
          "text": [
            "Epoch: 0000 cost= 2.006789923\n",
            "Epoch: 0005 cost= 0.144374773\n",
            "Epoch: 0010 cost= 0.089670986\n",
            "Epoch: 0015 cost= 0.060140464\n",
            "Epoch: 0020 cost= 0.041558333\n",
            "Epoch: 0025 cost= 0.028813455\n",
            "Epoch: 0030 cost= 0.019936778\n",
            "Epoch: 0035 cost= 0.014111835\n",
            "Epoch: 0040 cost= 0.009974269\n",
            "Epoch: 0045 cost= 0.007654566\n",
            "Training Done\n",
            "92.82957441999952\n"
          ],
          "name": "stdout"
        }
      ]
    },
    {
      "cell_type": "code",
      "metadata": {
        "colab": {
          "base_uri": "https://localhost:8080/"
        },
        "id": "CBFBBcVbs0cf",
        "outputId": "ee5dc4aa-d25c-4dc3-cc3f-8aa99b085ce9"
      },
      "source": [
        "test(third)"
      ],
      "execution_count": 25,
      "outputs": [
        {
          "output_type": "stream",
          "text": [
            "Test Average Cost: 0.000161, Accuracy: 0.963200\n"
          ],
          "name": "stdout"
        }
      ]
    },
    {
      "cell_type": "code",
      "metadata": {
        "colab": {
          "base_uri": "https://localhost:8080/"
        },
        "id": "JEA1byqPvn7c",
        "outputId": "59f6c0bf-695c-4ab5-e80a-27e2d38252ed"
      },
      "source": [
        "num = 0\r\n",
        "for m in second.modules():\r\n",
        "    if isinstance(m, nn.Conv2d):\r\n",
        "        print(num, 'True')\r\n",
        "        torch.nn.init.kaiming_normal_(m.weight)"
      ],
      "execution_count": 26,
      "outputs": [
        {
          "output_type": "stream",
          "text": [
            "0 True\n",
            "0 True\n"
          ],
          "name": "stdout"
        }
      ]
    },
    {
      "cell_type": "code",
      "metadata": {
        "colab": {
          "base_uri": "https://localhost:8080/"
        },
        "id": "1igOy_gDvtC-",
        "outputId": "fd6bc24b-e75b-4c31-8eb1-405061f71ebe"
      },
      "source": [
        "third_k, history_3_k = train(second, filtering=True)"
      ],
      "execution_count": 27,
      "outputs": [
        {
          "output_type": "stream",
          "text": [
            "Epoch: 0000 cost= 24.957721710\n",
            "Epoch: 0005 cost= 1.150804162\n",
            "Epoch: 0010 cost= 0.601957440\n",
            "Epoch: 0015 cost= 0.416473925\n",
            "Epoch: 0020 cost= 0.303829014\n",
            "Epoch: 0025 cost= 0.228510052\n",
            "Epoch: 0030 cost= 0.184304878\n",
            "Epoch: 0035 cost= 0.146801844\n",
            "Epoch: 0040 cost= 0.118933819\n",
            "Epoch: 0045 cost= 0.096105196\n",
            "Training Done\n",
            "93.20175057100005\n"
          ],
          "name": "stdout"
        }
      ]
    },
    {
      "cell_type": "code",
      "metadata": {
        "colab": {
          "base_uri": "https://localhost:8080/"
        },
        "id": "oXcq9bgMvyhn",
        "outputId": "981be193-68eb-4802-b44c-8a0b1a44b6e4"
      },
      "source": [
        "test(third_k)"
      ],
      "execution_count": 28,
      "outputs": [
        {
          "output_type": "stream",
          "text": [
            "Test Average Cost: 0.000528, Accuracy: 0.936900\n"
          ],
          "name": "stdout"
        }
      ]
    },
    {
      "cell_type": "markdown",
      "metadata": {
        "id": "LPXYz3CUqSlO"
      },
      "source": [
        "# Dropout"
      ]
    },
    {
      "cell_type": "code",
      "metadata": {
        "id": "XQCes-6SxoZ_"
      },
      "source": [
        "c = 1\r\n",
        "for param, m in zip(second.parameters(), second.modules()):\r\n",
        "    if c < 7:\r\n",
        "    # if isinstance(m, nn.Conv2d):\r\n",
        "        param.requires_grad = False\r\n",
        "        # print('conv')\r\n",
        "    # if isinstance(m, nn.BatchNorm2d):\r\n",
        "        # param.requires_grad = False\r\n",
        "    else:\r\n",
        "        param.requires_grad = True\r\n",
        "    c += 1"
      ],
      "execution_count": 52,
      "outputs": []
    },
    {
      "cell_type": "code",
      "metadata": {
        "colab": {
          "base_uri": "https://localhost:8080/"
        },
        "id": "ylRcInEkqlz9",
        "outputId": "c021d3ae-f6bd-4529-8a66-24a37258196f"
      },
      "source": [
        "check_freezing(second)"
      ],
      "execution_count": 53,
      "outputs": [
        {
          "output_type": "stream",
          "text": [
            "0 Freezed\n",
            "1 Freezed\n",
            "2 Freezed\n",
            "3 Freezed\n",
            "4 Freezed\n",
            "5 Freezed\n",
            "6 Not Freeze\n",
            "7 Not Freeze\n",
            "8 Not Freeze\n",
            "9 Not Freeze\n",
            "10 Not Freeze\n",
            "11 Not Freeze\n",
            "12 Not Freeze\n",
            "13 Not Freeze\n"
          ],
          "name": "stdout"
        }
      ]
    },
    {
      "cell_type": "code",
      "metadata": {
        "id": "yP7gm7lWy1Ou"
      },
      "source": [
        "second.conv1.requires_grad = False\r\n",
        "second.conv2.requires_grad = False\r\n",
        "second.fc1.requires_grad = True\r\n",
        "second.fc1 = nn.Sequential(nn.Linear(400, 120).to(device), \r\n",
        "                           nn.ReLU(),\r\n",
        "                           nn.Dropout(0.2)\r\n",
        ")\r\n",
        "second.fc2.requires_grad = True\r\n",
        "second.fc2 = nn.Sequential(nn.Linear(120, 84).to(device), \r\n",
        "                           nn.ReLU(),\r\n",
        "                           nn.Dropout(0.2)\r\n",
        ")\r\n",
        "second.fc3.requires_grad = True"
      ],
      "execution_count": 54,
      "outputs": []
    },
    {
      "cell_type": "code",
      "metadata": {
        "colab": {
          "base_uri": "https://localhost:8080/"
        },
        "id": "Fz80bG10yITp",
        "outputId": "b4ec4867-0a63-44bc-b869-8d4cd4c1023e"
      },
      "source": [
        "summary(second, input_size=(1,32,32))"
      ],
      "execution_count": 55,
      "outputs": [
        {
          "output_type": "stream",
          "text": [
            "----------------------------------------------------------------\n",
            "        Layer (type)               Output Shape         Param #\n",
            "================================================================\n",
            "            Conv2d-1            [-1, 6, 28, 28]             156\n",
            "              ReLU-2            [-1, 6, 28, 28]               0\n",
            "       BatchNorm2d-3            [-1, 6, 28, 28]              12\n",
            "            Conv2d-4           [-1, 16, 10, 10]           2,416\n",
            "              ReLU-5           [-1, 16, 10, 10]               0\n",
            "       BatchNorm2d-6           [-1, 16, 10, 10]              32\n",
            "            Linear-7                  [-1, 120]          48,120\n",
            "              ReLU-8                  [-1, 120]               0\n",
            "           Dropout-9                  [-1, 120]               0\n",
            "           Linear-10                   [-1, 84]          10,164\n",
            "             ReLU-11                   [-1, 84]               0\n",
            "          Dropout-12                   [-1, 84]               0\n",
            "           Linear-13                   [-1, 10]             850\n",
            "             ReLU-14                   [-1, 10]               0\n",
            "          Dropout-15                   [-1, 10]               0\n",
            "================================================================\n",
            "Total params: 61,750\n",
            "Trainable params: 59,166\n",
            "Non-trainable params: 2,584\n",
            "----------------------------------------------------------------\n",
            "Input size (MB): 0.00\n",
            "Forward/backward pass size (MB): 0.15\n",
            "Params size (MB): 0.24\n",
            "Estimated Total Size (MB): 0.39\n",
            "----------------------------------------------------------------\n"
          ],
          "name": "stdout"
        }
      ]
    },
    {
      "cell_type": "code",
      "metadata": {
        "colab": {
          "base_uri": "https://localhost:8080/"
        },
        "id": "DtThSAZNyck5",
        "outputId": "cad24b57-a3f5-418d-81c1-9707da47403d"
      },
      "source": [
        "check_freezing(second)"
      ],
      "execution_count": 56,
      "outputs": [
        {
          "output_type": "stream",
          "text": [
            "0 Freezed\n",
            "1 Freezed\n",
            "2 Freezed\n",
            "3 Freezed\n",
            "4 Freezed\n",
            "5 Freezed\n",
            "6 Not Freeze\n",
            "7 Not Freeze\n",
            "8 Not Freeze\n",
            "9 Not Freeze\n",
            "10 Not Freeze\n",
            "11 Not Freeze\n",
            "12 Not Freeze\n",
            "13 Not Freeze\n"
          ],
          "name": "stdout"
        }
      ]
    },
    {
      "cell_type": "code",
      "metadata": {
        "colab": {
          "base_uri": "https://localhost:8080/"
        },
        "id": "owlpwZgH58lu",
        "outputId": "51580212-e24b-4398-c84f-ece78e2c4911"
      },
      "source": [
        "print(second)"
      ],
      "execution_count": 57,
      "outputs": [
        {
          "output_type": "stream",
          "text": [
            "LeNet(\n",
            "  (conv1): Sequential(\n",
            "    (0): Conv2d(1, 6, kernel_size=(5, 5), stride=(1, 1))\n",
            "    (1): ReLU()\n",
            "    (2): BatchNorm2d(6, eps=1e-05, momentum=0.1, affine=True, track_running_stats=True)\n",
            "  )\n",
            "  (conv2): Sequential(\n",
            "    (0): Conv2d(6, 16, kernel_size=(5, 5), stride=(1, 1))\n",
            "    (1): ReLU()\n",
            "    (2): BatchNorm2d(16, eps=1e-05, momentum=0.1, affine=True, track_running_stats=True)\n",
            "  )\n",
            "  (fc1): Sequential(\n",
            "    (0): Linear(in_features=400, out_features=120, bias=True)\n",
            "    (1): ReLU()\n",
            "    (2): Dropout(p=0.2, inplace=False)\n",
            "  )\n",
            "  (fc2): Sequential(\n",
            "    (0): Linear(in_features=120, out_features=84, bias=True)\n",
            "    (1): ReLU()\n",
            "    (2): Dropout(p=0.2, inplace=False)\n",
            "  )\n",
            "  (fc3): Sequential(\n",
            "    (0): Linear(in_features=84, out_features=10, bias=True)\n",
            "    (1): ReLU()\n",
            "    (2): Dropout(p=0.2, inplace=False)\n",
            "  )\n",
            ")\n"
          ],
          "name": "stdout"
        }
      ]
    },
    {
      "cell_type": "code",
      "metadata": {
        "colab": {
          "base_uri": "https://localhost:8080/"
        },
        "id": "zUhciWtCz91Y",
        "outputId": "2c936a0a-2b31-4c26-9ea3-5cb581954c3c"
      },
      "source": [
        "last, history_4 = train(second, filtering=True)"
      ],
      "execution_count": 58,
      "outputs": [
        {
          "output_type": "stream",
          "text": [
            "Epoch: 0000 cost= 2.027822018\n",
            "Epoch: 0005 cost= 0.656907439\n",
            "Epoch: 0010 cost= 0.497851163\n",
            "Epoch: 0015 cost= 0.272023678\n",
            "Epoch: 0020 cost= 0.030131064\n",
            "Epoch: 0025 cost= 0.019843854\n",
            "Epoch: 0030 cost= 0.010542480\n",
            "Epoch: 0035 cost= 0.010263963\n",
            "Epoch: 0040 cost= 0.008451282\n",
            "Epoch: 0045 cost= 0.009846248\n",
            "Training Done\n",
            "67.87057021700002\n"
          ],
          "name": "stdout"
        }
      ]
    },
    {
      "cell_type": "code",
      "metadata": {
        "colab": {
          "base_uri": "https://localhost:8080/"
        },
        "id": "fPsLDtze0slk",
        "outputId": "abbe2f92-85c4-4ea4-dcff-1b90e6535af9"
      },
      "source": [
        "test(last)"
      ],
      "execution_count": 59,
      "outputs": [
        {
          "output_type": "stream",
          "text": [
            "Test Average Cost: 0.000149, Accuracy: 0.972800\n"
          ],
          "name": "stdout"
        }
      ]
    },
    {
      "cell_type": "code",
      "metadata": {
        "colab": {
          "base_uri": "https://localhost:8080/"
        },
        "id": "6MEUfXAw1KQ-",
        "outputId": "2e0ca5e0-6a28-4f97-ce78-ac9d6f690d20"
      },
      "source": [
        "summary(last, input_size=(1,32,32))"
      ],
      "execution_count": 60,
      "outputs": [
        {
          "output_type": "stream",
          "text": [
            "----------------------------------------------------------------\n",
            "        Layer (type)               Output Shape         Param #\n",
            "================================================================\n",
            "            Conv2d-1            [-1, 6, 28, 28]             156\n",
            "              ReLU-2            [-1, 6, 28, 28]               0\n",
            "       BatchNorm2d-3            [-1, 6, 28, 28]              12\n",
            "            Conv2d-4           [-1, 16, 10, 10]           2,416\n",
            "              ReLU-5           [-1, 16, 10, 10]               0\n",
            "       BatchNorm2d-6           [-1, 16, 10, 10]              32\n",
            "            Linear-7                  [-1, 120]          48,120\n",
            "              ReLU-8                  [-1, 120]               0\n",
            "           Dropout-9                  [-1, 120]               0\n",
            "           Linear-10                   [-1, 84]          10,164\n",
            "             ReLU-11                   [-1, 84]               0\n",
            "          Dropout-12                   [-1, 84]               0\n",
            "           Linear-13                   [-1, 10]             850\n",
            "             ReLU-14                   [-1, 10]               0\n",
            "          Dropout-15                   [-1, 10]               0\n",
            "================================================================\n",
            "Total params: 61,750\n",
            "Trainable params: 59,166\n",
            "Non-trainable params: 2,584\n",
            "----------------------------------------------------------------\n",
            "Input size (MB): 0.00\n",
            "Forward/backward pass size (MB): 0.15\n",
            "Params size (MB): 0.24\n",
            "Estimated Total Size (MB): 0.39\n",
            "----------------------------------------------------------------\n"
          ],
          "name": "stdout"
        }
      ]
    },
    {
      "cell_type": "markdown",
      "metadata": {
        "id": "zZMse9jK2mnP"
      },
      "source": [
        "# Visualization -> Comparison"
      ]
    },
    {
      "cell_type": "code",
      "metadata": {
        "colab": {
          "base_uri": "https://localhost:8080/",
          "height": 265
        },
        "id": "QLJ6s8YzK7I6",
        "outputId": "88d095a1-ec5a-495d-9aa3-4d994ec111c1"
      },
      "source": [
        "plt.plot(history_2, color='red') # Batch\r\n",
        "plt.plot(history_raw)\r\n",
        "plt.show()"
      ],
      "execution_count": 64,
      "outputs": [
        {
          "output_type": "display_data",
          "data": {
            "image/png": "[encoded data removed]",
            "text/plain": [
              "<Figure size 432x288 with 1 Axes>"
            ]
          },
          "metadata": {
            "tags": [],
            "needs_background": "light"
          }
        }
      ]
    },
    {
      "cell_type": "code",
      "metadata": {
        "colab": {
          "base_uri": "https://localhost:8080/",
          "height": 265
        },
        "id": "V931BjDX2rIx",
        "outputId": "cec92807-ef87-46ca-9c16-ae29762e2b0e"
      },
      "source": [
        "plt.plot(history_3, color='red')  # Xavier\r\n",
        "plt.plot(history_raw)\r\n",
        "plt.show()"
      ],
      "execution_count": 63,
      "outputs": [
        {
          "output_type": "display_data",
          "data": {
            "image/png": "[encoded data removed]",
            "text/plain": [
              "<Figure size 432x288 with 1 Axes>"
            ]
          },
          "metadata": {
            "tags": [],
            "needs_background": "light"
          }
        }
      ]
    },
    {
      "cell_type": "code",
      "metadata": {
        "colab": {
          "base_uri": "https://localhost:8080/",
          "height": 265
        },
        "id": "6FeMwlgXLYfW",
        "outputId": "2bb76b13-0beb-4cd3-c978-e96e2c9311d5"
      },
      "source": [
        "plt.plot(history_3_k, color='red')\r\n",
        "plt.plot(history_raw)\r\n",
        "plt.show()"
      ],
      "execution_count": 65,
      "outputs": [
        {
          "output_type": "display_data",
          "data": {
            "image/png": "[encoded data removed]",
            "text/plain": [
              "<Figure size 432x288 with 1 Axes>"
            ]
          },
          "metadata": {
            "tags": [],
            "needs_background": "light"
          }
        }
      ]
    },
    {
      "cell_type": "code",
      "metadata": {
        "colab": {
          "base_uri": "https://localhost:8080/",
          "height": 265
        },
        "id": "hI9Wr9PPLYWb",
        "outputId": "62dcfc70-5d9a-423c-f689-b10866b3a36a"
      },
      "source": [
        "plt.plot(history_4, color='red') # Dropout + Batch\r\n",
        "plt.plot(history_raw)\r\n",
        "plt.show()"
      ],
      "execution_count": 66,
      "outputs": [
        {
          "output_type": "display_data",
          "data": {
            "image/png": "[encoded data removed]",
            "text/plain": [
              "<Figure size 432x288 with 1 Axes>"
            ]
          },
          "metadata": {
            "tags": [],
            "needs_background": "light"
          }
        }
      ]
    },
    {
      "cell_type": "code",
      "metadata": {
        "id": "Zq_4JEYPLoNm"
      },
      "source": [
        ""
      ],
      "execution_count": null,
      "outputs": []
    }
  ]
}